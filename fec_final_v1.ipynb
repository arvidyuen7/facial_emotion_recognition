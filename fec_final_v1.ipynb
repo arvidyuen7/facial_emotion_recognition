{
 "cells": [
  {
   "cell_type": "markdown",
   "metadata": {},
   "source": [
    "## Facial Expression Classifier - Final Submission"
   ]
  },
  {
   "cell_type": "markdown",
   "metadata": {},
   "source": [
    "0 = Angry //\n",
    "1 = Disgust //\n",
    "2 = Fear //\n",
    "3 = Happy //\n",
    "4 = Sad //\n",
    "5 = Surpise //\n",
    "6 = Neutral"
   ]
  },
  {
   "cell_type": "code",
   "execution_count": 87,
   "metadata": {},
   "outputs": [],
   "source": [
    "# Import packages\n",
    "import numpy as np\n",
    "import pandas as pd\n",
    "import matplotlib.pyplot as plt\n",
    "import cv2\n",
    "import matplotlib.image as mpimg\n",
    "import os\n",
    "import sys\n",
    "from sklearn.linear_model import LogisticRegression\n",
    "from sklearn.preprocessing import StandardScaler\n",
    "from sklearn.decomposition import PCA\n",
    "import h5py\n",
    "from keras.preprocessing.image import ImageDataGenerator"
   ]
  },
  {
   "cell_type": "code",
   "execution_count": 88,
   "metadata": {},
   "outputs": [],
   "source": [
    "# Specific neural network models & layer types\n",
    "from tensorflow.keras.models import Sequential\n",
    "from tensorflow.keras.layers import Dense\n",
    "from tensorflow.keras.layers import Conv2D\n",
    "from tensorflow.keras.layers import MaxPooling2D\n",
    "from tensorflow.keras.layers import Flatten\n",
    "from tensorflow.keras.layers import Dropout"
   ]
  },
  {
   "cell_type": "code",
   "execution_count": 89,
   "metadata": {},
   "outputs": [],
   "source": [
    "# For VGG16 transfer learning\n",
    "from tensorflow.keras.applications.vgg16 import preprocess_input\n",
    "from tensorflow.keras.applications.vgg16 import decode_predictions\n",
    "from tensorflow.keras.applications.vgg16 import VGG16\n",
    "from tensorflow.keras.layers import Dense,GlobalAveragePooling2D\n",
    "from tensorflow.keras.models import Model"
   ]
  },
  {
   "cell_type": "code",
   "execution_count": 90,
   "metadata": {},
   "outputs": [],
   "source": [
    "from sklearn.metrics import confusion_matrix\n",
    "from sklearn.metrics import ConfusionMatrixDisplay"
   ]
  },
  {
   "cell_type": "code",
   "execution_count": 91,
   "metadata": {},
   "outputs": [],
   "source": [
    "# Function to convert csv file to images - got help from Kaggle (https://www.kaggle.com/c/challenges-in-representation-learning-facial-expression-recognition-challenge/discussion/29428)\n",
    "def main():\n",
    "    if len(sys.argv) < 2:\n",
    "        print('Usage: python cv_to_img.py [output_path]')\n",
    "        return -1\n",
    "\n",
    "    output_path = sys.argv[1]\n",
    "\n",
    "    if os.path.exists(output_path):\n",
    "\n",
    "        os.system('rm -rf {}'.format(output_path))\n",
    "\n",
    "    os.system('mkdir {}'.format(output_path))\n",
    "\n",
    "    label_names = ['Angry', 'Disgust', 'Fear', 'Happy', 'Sad', 'Surprise', 'Neutral']\n",
    "    #data = pd.read_csv('fer2013.csv', delimiter=',')\n",
    "    data = np.genfromtxt('fer2013.csv',delimiter=',',dtype=None, encoding='utf8')\n",
    "\n",
    "    labels = data[1:,0].astype(np.int32)\n",
    "    image_buffer = data[1:,1]\n",
    "    images = np.array([np.fromstring(image, np.uint8, sep=' ') for image in image_buffer])\n",
    "    usage = data[1:,2]\n",
    "    dataset = zip(labels, images, usage)\n",
    "    for i, d in enumerate(dataset):\n",
    "        usage_path = os.path.join(output_path, d[-1])\n",
    "        label_path = os.path.join(usage_path, label_names[d[0]])\n",
    "        img = d[1].reshape((48,48))\n",
    "        img_name = '%08d.jpg' % i\n",
    "        img_path = os.path.join(label_path, img_name)\n",
    "        if not os.path.exists(usage_path):\n",
    "            os.system('mkdir {}'.format(usage_path))\n",
    "        if not os.path.exists(label_path):\n",
    "            os.system('mkdir {}'.format(label_path))\n",
    "        cv2.imwrite(img_path, img)\n",
    "        print('Write {}'.format(img_path))"
   ]
  },
  {
   "cell_type": "code",
   "execution_count": 92,
   "metadata": {},
   "outputs": [],
   "source": [
    "# Run the main function - running this will create 35,000 images\n",
    "# main()"
   ]
  },
  {
   "cell_type": "code",
   "execution_count": 93,
   "metadata": {},
   "outputs": [],
   "source": [
    "# Generate data from text\n",
    "data = np.genfromtxt('fer2013.csv', delimiter=',', dtype=None, encoding='utf8')"
   ]
  },
  {
   "cell_type": "code",
   "execution_count": 94,
   "metadata": {},
   "outputs": [
    {
     "data": {
      "text/plain": [
       "(35888, 3)"
      ]
     },
     "execution_count": 94,
     "metadata": {},
     "output_type": "execute_result"
    }
   ],
   "source": [
    "data.shape"
   ]
  },
  {
   "cell_type": "code",
   "execution_count": 95,
   "metadata": {},
   "outputs": [],
   "source": [
    "# Convert data to DataFrame\n",
    "data = data[1:,:]\n",
    "fer_df = pd.DataFrame(data)"
   ]
  },
  {
   "cell_type": "code",
   "execution_count": 96,
   "metadata": {},
   "outputs": [],
   "source": [
    "# Drop non-usable images (inspected manually)\n",
    "to_drop = [5439,6458,7496,11286,12352,13148,13402,15894,20222,20817,22198,24441,\\\n",
    "28601,9679,59,5274,7527,9026,9500,14279,4275,7172,7629,8030,8737,8856,11244,15838,\\\n",
    "16540,26383,2171,6102,11846,12289,15144,17081,19632,21817,22927,26897,10423,11295,\\\n",
    "2059,2809,3262,5722,13988,19238,20712,30002,29447,29557,32662,35743,32683,35632,35121]"
   ]
  },
  {
   "cell_type": "code",
   "execution_count": 97,
   "metadata": {},
   "outputs": [
    {
     "data": {
      "text/plain": [
       "57"
      ]
     },
     "execution_count": 97,
     "metadata": {},
     "output_type": "execute_result"
    }
   ],
   "source": [
    "# How many invalid images\n",
    "len(to_drop)"
   ]
  },
  {
   "cell_type": "code",
   "execution_count": 98,
   "metadata": {},
   "outputs": [],
   "source": [
    "# Drop invalid images, reset index\n",
    "fer_df.drop(to_drop, axis=0, inplace=True)\n",
    "fer_df.reset_index(drop=True, inplace=True)"
   ]
  },
  {
   "cell_type": "code",
   "execution_count": 99,
   "metadata": {},
   "outputs": [],
   "source": [
    "# Make pickle files of training, test1, test2\n",
    "training_df = fer_df[fer_df[2] == 'Training'].copy()\n",
    "pub_test_df = fer_df[fer_df[2] == 'PublicTest'].copy()\n",
    "priv_test_df = fer_df[fer_df[2] == 'PrivateTest'].copy()\n",
    "training_df.to_pickle(\"./training_df\")\n",
    "pub_test_df.to_pickle(\"./pub_test_df\")\n",
    "priv_test_df.to_pickle(\"./priv_test_df\")"
   ]
  },
  {
   "cell_type": "code",
   "execution_count": 100,
   "metadata": {},
   "outputs": [
    {
     "data": {
      "text/html": [
       "<div>\n",
       "<style scoped>\n",
       "    .dataframe tbody tr th:only-of-type {\n",
       "        vertical-align: middle;\n",
       "    }\n",
       "\n",
       "    .dataframe tbody tr th {\n",
       "        vertical-align: top;\n",
       "    }\n",
       "\n",
       "    .dataframe thead th {\n",
       "        text-align: right;\n",
       "    }\n",
       "</style>\n",
       "<table border=\"1\" class=\"dataframe\">\n",
       "  <thead>\n",
       "    <tr style=\"text-align: right;\">\n",
       "      <th></th>\n",
       "      <th>0</th>\n",
       "      <th>1</th>\n",
       "      <th>2</th>\n",
       "    </tr>\n",
       "  </thead>\n",
       "  <tbody>\n",
       "    <tr>\n",
       "      <th>0</th>\n",
       "      <td>0</td>\n",
       "      <td>70 80 82 72 58 58 60 63 54 58 60 48 89 115 121...</td>\n",
       "      <td>Training</td>\n",
       "    </tr>\n",
       "    <tr>\n",
       "      <th>1</th>\n",
       "      <td>0</td>\n",
       "      <td>151 150 147 155 148 133 111 140 170 174 182 15...</td>\n",
       "      <td>Training</td>\n",
       "    </tr>\n",
       "    <tr>\n",
       "      <th>2</th>\n",
       "      <td>2</td>\n",
       "      <td>231 212 156 164 174 138 161 173 182 200 106 38...</td>\n",
       "      <td>Training</td>\n",
       "    </tr>\n",
       "    <tr>\n",
       "      <th>3</th>\n",
       "      <td>4</td>\n",
       "      <td>24 32 36 30 32 23 19 20 30 41 21 22 32 34 21 1...</td>\n",
       "      <td>Training</td>\n",
       "    </tr>\n",
       "    <tr>\n",
       "      <th>4</th>\n",
       "      <td>6</td>\n",
       "      <td>4 0 0 0 0 0 0 0 0 0 0 0 3 15 23 28 48 50 58 84...</td>\n",
       "      <td>Training</td>\n",
       "    </tr>\n",
       "  </tbody>\n",
       "</table>\n",
       "</div>"
      ],
      "text/plain": [
       "   0                                                  1         2\n",
       "0  0  70 80 82 72 58 58 60 63 54 58 60 48 89 115 121...  Training\n",
       "1  0  151 150 147 155 148 133 111 140 170 174 182 15...  Training\n",
       "2  2  231 212 156 164 174 138 161 173 182 200 106 38...  Training\n",
       "3  4  24 32 36 30 32 23 19 20 30 41 21 22 32 34 21 1...  Training\n",
       "4  6  4 0 0 0 0 0 0 0 0 0 0 0 3 15 23 28 48 50 58 84...  Training"
      ]
     },
     "execution_count": 100,
     "metadata": {},
     "output_type": "execute_result"
    }
   ],
   "source": [
    "# Read training pickle file\n",
    "training_all_df = pd.read_pickle(\"./training_df\")\n",
    "training_all_df.head()"
   ]
  },
  {
   "cell_type": "code",
   "execution_count": 101,
   "metadata": {},
   "outputs": [
    {
     "data": {
      "text/plain": [
       "(28660, 3)"
      ]
     },
     "execution_count": 101,
     "metadata": {},
     "output_type": "execute_result"
    }
   ],
   "source": [
    "training_all_df.shape"
   ]
  },
  {
   "cell_type": "code",
   "execution_count": 102,
   "metadata": {},
   "outputs": [],
   "source": [
    "# Isolate five expressions to focus on\n",
    "training_five_df = training_all_df[training_all_df[0].isin(['0','3','4','5','6'])].copy()\n",
    "training_five_df[0] = training_five_df[0].astype(int)"
   ]
  },
  {
   "cell_type": "code",
   "execution_count": 103,
   "metadata": {},
   "outputs": [
    {
     "data": {
      "text/html": [
       "<div>\n",
       "<style scoped>\n",
       "    .dataframe tbody tr th:only-of-type {\n",
       "        vertical-align: middle;\n",
       "    }\n",
       "\n",
       "    .dataframe tbody tr th {\n",
       "        vertical-align: top;\n",
       "    }\n",
       "\n",
       "    .dataframe thead th {\n",
       "        text-align: right;\n",
       "    }\n",
       "</style>\n",
       "<table border=\"1\" class=\"dataframe\">\n",
       "  <thead>\n",
       "    <tr style=\"text-align: right;\">\n",
       "      <th></th>\n",
       "      <th>0</th>\n",
       "      <th>1</th>\n",
       "      <th>2</th>\n",
       "    </tr>\n",
       "  </thead>\n",
       "  <tbody>\n",
       "    <tr>\n",
       "      <th>0</th>\n",
       "      <td>0</td>\n",
       "      <td>70 80 82 72 58 58 60 63 54 58 60 48 89 115 121...</td>\n",
       "      <td>Training</td>\n",
       "    </tr>\n",
       "    <tr>\n",
       "      <th>1</th>\n",
       "      <td>0</td>\n",
       "      <td>151 150 147 155 148 133 111 140 170 174 182 15...</td>\n",
       "      <td>Training</td>\n",
       "    </tr>\n",
       "    <tr>\n",
       "      <th>3</th>\n",
       "      <td>2</td>\n",
       "      <td>24 32 36 30 32 23 19 20 30 41 21 22 32 34 21 1...</td>\n",
       "      <td>Training</td>\n",
       "    </tr>\n",
       "    <tr>\n",
       "      <th>4</th>\n",
       "      <td>4</td>\n",
       "      <td>4 0 0 0 0 0 0 0 0 0 0 0 3 15 23 28 48 50 58 84...</td>\n",
       "      <td>Training</td>\n",
       "    </tr>\n",
       "    <tr>\n",
       "      <th>6</th>\n",
       "      <td>2</td>\n",
       "      <td>20 17 19 21 25 38 42 42 46 54 56 62 63 66 82 1...</td>\n",
       "      <td>Training</td>\n",
       "    </tr>\n",
       "  </tbody>\n",
       "</table>\n",
       "</div>"
      ],
      "text/plain": [
       "   0                                                  1         2\n",
       "0  0  70 80 82 72 58 58 60 63 54 58 60 48 89 115 121...  Training\n",
       "1  0  151 150 147 155 148 133 111 140 170 174 182 15...  Training\n",
       "3  2  24 32 36 30 32 23 19 20 30 41 21 22 32 34 21 1...  Training\n",
       "4  4  4 0 0 0 0 0 0 0 0 0 0 0 3 15 23 28 48 50 58 84...  Training\n",
       "6  2  20 17 19 21 25 38 42 42 46 54 56 62 63 66 82 1...  Training"
      ]
     },
     "execution_count": 103,
     "metadata": {},
     "output_type": "execute_result"
    }
   ],
   "source": [
    "# Map five expressions\n",
    "new_map = {0:0,3:1,4:2,5:3,6:4}\n",
    "training_five_df[0] = training_five_df[0].map(new_map)\n",
    "training_five_df.head()"
   ]
  },
  {
   "cell_type": "code",
   "execution_count": 104,
   "metadata": {},
   "outputs": [
    {
     "data": {
      "text/html": [
       "<div>\n",
       "<style scoped>\n",
       "    .dataframe tbody tr th:only-of-type {\n",
       "        vertical-align: middle;\n",
       "    }\n",
       "\n",
       "    .dataframe tbody tr th {\n",
       "        vertical-align: top;\n",
       "    }\n",
       "\n",
       "    .dataframe thead th {\n",
       "        text-align: right;\n",
       "    }\n",
       "</style>\n",
       "<table border=\"1\" class=\"dataframe\">\n",
       "  <thead>\n",
       "    <tr style=\"text-align: right;\">\n",
       "      <th></th>\n",
       "      <th>0</th>\n",
       "      <th>1</th>\n",
       "      <th>2</th>\n",
       "      <th>3</th>\n",
       "      <th>4</th>\n",
       "      <th>5</th>\n",
       "      <th>6</th>\n",
       "      <th>7</th>\n",
       "      <th>8</th>\n",
       "      <th>9</th>\n",
       "      <th>...</th>\n",
       "      <th>2294</th>\n",
       "      <th>2295</th>\n",
       "      <th>2296</th>\n",
       "      <th>2297</th>\n",
       "      <th>2298</th>\n",
       "      <th>2299</th>\n",
       "      <th>2300</th>\n",
       "      <th>2301</th>\n",
       "      <th>2302</th>\n",
       "      <th>2303</th>\n",
       "    </tr>\n",
       "  </thead>\n",
       "  <tbody>\n",
       "    <tr>\n",
       "      <th>0</th>\n",
       "      <td>70.0</td>\n",
       "      <td>80.0</td>\n",
       "      <td>82.0</td>\n",
       "      <td>72.0</td>\n",
       "      <td>58.0</td>\n",
       "      <td>58.0</td>\n",
       "      <td>60.0</td>\n",
       "      <td>63.0</td>\n",
       "      <td>54.0</td>\n",
       "      <td>58.0</td>\n",
       "      <td>...</td>\n",
       "      <td>159.0</td>\n",
       "      <td>182.0</td>\n",
       "      <td>183.0</td>\n",
       "      <td>136.0</td>\n",
       "      <td>106.0</td>\n",
       "      <td>116.0</td>\n",
       "      <td>95.0</td>\n",
       "      <td>106.0</td>\n",
       "      <td>109.0</td>\n",
       "      <td>82.0</td>\n",
       "    </tr>\n",
       "    <tr>\n",
       "      <th>1</th>\n",
       "      <td>151.0</td>\n",
       "      <td>150.0</td>\n",
       "      <td>147.0</td>\n",
       "      <td>155.0</td>\n",
       "      <td>148.0</td>\n",
       "      <td>133.0</td>\n",
       "      <td>111.0</td>\n",
       "      <td>140.0</td>\n",
       "      <td>170.0</td>\n",
       "      <td>174.0</td>\n",
       "      <td>...</td>\n",
       "      <td>105.0</td>\n",
       "      <td>108.0</td>\n",
       "      <td>95.0</td>\n",
       "      <td>108.0</td>\n",
       "      <td>102.0</td>\n",
       "      <td>67.0</td>\n",
       "      <td>171.0</td>\n",
       "      <td>193.0</td>\n",
       "      <td>183.0</td>\n",
       "      <td>184.0</td>\n",
       "    </tr>\n",
       "    <tr>\n",
       "      <th>3</th>\n",
       "      <td>24.0</td>\n",
       "      <td>32.0</td>\n",
       "      <td>36.0</td>\n",
       "      <td>30.0</td>\n",
       "      <td>32.0</td>\n",
       "      <td>23.0</td>\n",
       "      <td>19.0</td>\n",
       "      <td>20.0</td>\n",
       "      <td>30.0</td>\n",
       "      <td>41.0</td>\n",
       "      <td>...</td>\n",
       "      <td>174.0</td>\n",
       "      <td>126.0</td>\n",
       "      <td>132.0</td>\n",
       "      <td>132.0</td>\n",
       "      <td>133.0</td>\n",
       "      <td>136.0</td>\n",
       "      <td>139.0</td>\n",
       "      <td>142.0</td>\n",
       "      <td>143.0</td>\n",
       "      <td>142.0</td>\n",
       "    </tr>\n",
       "    <tr>\n",
       "      <th>4</th>\n",
       "      <td>4.0</td>\n",
       "      <td>0.0</td>\n",
       "      <td>0.0</td>\n",
       "      <td>0.0</td>\n",
       "      <td>0.0</td>\n",
       "      <td>0.0</td>\n",
       "      <td>0.0</td>\n",
       "      <td>0.0</td>\n",
       "      <td>0.0</td>\n",
       "      <td>0.0</td>\n",
       "      <td>...</td>\n",
       "      <td>12.0</td>\n",
       "      <td>34.0</td>\n",
       "      <td>31.0</td>\n",
       "      <td>31.0</td>\n",
       "      <td>31.0</td>\n",
       "      <td>27.0</td>\n",
       "      <td>31.0</td>\n",
       "      <td>30.0</td>\n",
       "      <td>29.0</td>\n",
       "      <td>30.0</td>\n",
       "    </tr>\n",
       "    <tr>\n",
       "      <th>6</th>\n",
       "      <td>20.0</td>\n",
       "      <td>17.0</td>\n",
       "      <td>19.0</td>\n",
       "      <td>21.0</td>\n",
       "      <td>25.0</td>\n",
       "      <td>38.0</td>\n",
       "      <td>42.0</td>\n",
       "      <td>42.0</td>\n",
       "      <td>46.0</td>\n",
       "      <td>54.0</td>\n",
       "      <td>...</td>\n",
       "      <td>29.0</td>\n",
       "      <td>36.0</td>\n",
       "      <td>68.0</td>\n",
       "      <td>91.0</td>\n",
       "      <td>85.0</td>\n",
       "      <td>93.0</td>\n",
       "      <td>97.0</td>\n",
       "      <td>99.0</td>\n",
       "      <td>107.0</td>\n",
       "      <td>118.0</td>\n",
       "    </tr>\n",
       "  </tbody>\n",
       "</table>\n",
       "<p>5 rows × 2304 columns</p>\n",
       "</div>"
      ],
      "text/plain": [
       "    0      1      2      3      4      5      6      7      8      9     ...  \\\n",
       "0   70.0   80.0   82.0   72.0   58.0   58.0   60.0   63.0   54.0   58.0  ...   \n",
       "1  151.0  150.0  147.0  155.0  148.0  133.0  111.0  140.0  170.0  174.0  ...   \n",
       "3   24.0   32.0   36.0   30.0   32.0   23.0   19.0   20.0   30.0   41.0  ...   \n",
       "4    4.0    0.0    0.0    0.0    0.0    0.0    0.0    0.0    0.0    0.0  ...   \n",
       "6   20.0   17.0   19.0   21.0   25.0   38.0   42.0   42.0   46.0   54.0  ...   \n",
       "\n",
       "    2294   2295   2296   2297   2298   2299   2300   2301   2302   2303  \n",
       "0  159.0  182.0  183.0  136.0  106.0  116.0   95.0  106.0  109.0   82.0  \n",
       "1  105.0  108.0   95.0  108.0  102.0   67.0  171.0  193.0  183.0  184.0  \n",
       "3  174.0  126.0  132.0  132.0  133.0  136.0  139.0  142.0  143.0  142.0  \n",
       "4   12.0   34.0   31.0   31.0   31.0   27.0   31.0   30.0   29.0   30.0  \n",
       "6   29.0   36.0   68.0   91.0   85.0   93.0   97.0   99.0  107.0  118.0  \n",
       "\n",
       "[5 rows x 2304 columns]"
      ]
     },
     "execution_count": 104,
     "metadata": {},
     "output_type": "execute_result"
    }
   ],
   "source": [
    "# Split from strings to individual columns\n",
    "training_five_pixels_df = training_five_df[1].copy()\n",
    "training_five_pixels_df = training_five_pixels_df.str.split(pat=' ', expand=True).copy()\n",
    "training_five_pixels_df = training_five_pixels_df.astype('float').copy()\n",
    "training_five_pixels_df.head()"
   ]
  },
  {
   "cell_type": "code",
   "execution_count": 105,
   "metadata": {},
   "outputs": [
    {
     "data": {
      "text/plain": [
       "(24134, 2304)"
      ]
     },
     "execution_count": 105,
     "metadata": {},
     "output_type": "execute_result"
    }
   ],
   "source": [
    "training_five_pixels_df.shape"
   ]
  },
  {
   "cell_type": "code",
   "execution_count": 106,
   "metadata": {},
   "outputs": [],
   "source": [
    "# Obtain X_train, y_train\n",
    "X_train = training_five_pixels_df.copy()\n",
    "y_train = training_five_df[0].astype('int32')"
   ]
  },
  {
   "cell_type": "code",
   "execution_count": 107,
   "metadata": {},
   "outputs": [],
   "source": [
    "# Pre-process the X_test and y_test\n",
    "pub_test_all_df = pd.read_pickle(\"./pub_test_df\")\n",
    "pub_test_five_df = pub_test_all_df[pub_test_all_df[0].isin(['0','3','4','5','6'])].copy()\n",
    "pub_test_five_df[0] = pub_test_five_df[0].astype(int)"
   ]
  },
  {
   "cell_type": "code",
   "execution_count": 108,
   "metadata": {},
   "outputs": [],
   "source": [
    "# Map test data\n",
    "pub_test_five_df[0] = pub_test_five_df[0].map(new_map)"
   ]
  },
  {
   "cell_type": "code",
   "execution_count": 109,
   "metadata": {},
   "outputs": [],
   "source": [
    "# Obtain X_test, y_test\n",
    "pub_test_five_pixels_df = pub_test_five_df[1].copy()\n",
    "pub_test_five_pixels_df = pub_test_five_pixels_df.str.split(pat=' ', expand=True).copy()\n",
    "pub_test_five_pixels_df = pub_test_five_pixels_df.astype('float').copy()\n",
    "X_test = pub_test_five_pixels_df.copy()\n",
    "y_test = pub_test_five_df[0].astype('int32')"
   ]
  },
  {
   "cell_type": "code",
   "execution_count": 110,
   "metadata": {},
   "outputs": [
    {
     "data": {
      "text/plain": [
       "(3034, 2304)"
      ]
     },
     "execution_count": 110,
     "metadata": {},
     "output_type": "execute_result"
    }
   ],
   "source": [
    "X_test.shape"
   ]
  },
  {
   "cell_type": "code",
   "execution_count": 111,
   "metadata": {},
   "outputs": [],
   "source": [
    "# Run LogisticRegression - takes a long time.  Model is included, skip to next cell to load model.\n",
    "# Experimentally found to show best accuracy in a reasonable time - Without PCA\n",
    "# five_model = LogisticRegression(solver='saga', penalty='l2', C=0.0001, max_iter=1000, random_state=1)\n",
    "# five_model.fit(X_train, y_train)"
   ]
  },
  {
   "cell_type": "code",
   "execution_count": 112,
   "metadata": {},
   "outputs": [],
   "source": [
    "# Import model created using 5 expressions and flattened pixels\n",
    "from joblib import dump, load\n",
    "five_model = load('five/five_model_logit.joblib')"
   ]
  },
  {
   "cell_type": "code",
   "execution_count": 113,
   "metadata": {},
   "outputs": [
    {
     "name": "stdout",
     "output_type": "stream",
     "text": [
      "Train Set Score:  0.5457445926908097\n",
      "Test Set Score:  0.39650626235992087\n"
     ]
    }
   ],
   "source": [
    "print(\"Train Set Score: \", five_model.score(X_train, y_train))\n",
    "print(\"Test Set Score: \", five_model.score(X_test, y_test))"
   ]
  },
  {
   "cell_type": "code",
   "execution_count": 114,
   "metadata": {},
   "outputs": [],
   "source": [
    "# Store model created using 2 expressions and flattened pixels\n",
    "# from joblib import dump, load\n",
    "# dump(five_model, 'five/five_model_logit.joblib')"
   ]
  },
  {
   "cell_type": "code",
   "execution_count": 115,
   "metadata": {},
   "outputs": [],
   "source": [
    "# Scale the data\n",
    "scaler = StandardScaler()\n",
    "X_train_scaled = scaler.fit_transform(X_train)\n",
    "X_test_scaled = scaler.transform(X_test)"
   ]
  },
  {
   "cell_type": "code",
   "execution_count": 116,
   "metadata": {},
   "outputs": [],
   "source": [
    "# Implement the PCA with 500 components\n",
    "pca3 = PCA(n_components=500)\n",
    "pca3.fit(X_train_scaled)\n",
    "\n",
    "# Transform the data\n",
    "X_train_scaled_pca = pca3.transform(X_train_scaled)\n",
    "X_test_scaled_pca = pca3.transform(X_test_scaled)"
   ]
  },
  {
   "cell_type": "code",
   "execution_count": 117,
   "metadata": {},
   "outputs": [
    {
     "data": {
      "text/plain": [
       "LogisticRegression(C=0.0001, class_weight=None, dual=False, fit_intercept=True,\n",
       "                   intercept_scaling=1, l1_ratio=None, max_iter=1000,\n",
       "                   multi_class='auto', n_jobs=None, penalty='l2',\n",
       "                   random_state=1, solver='saga', tol=0.0001, verbose=0,\n",
       "                   warm_start=False)"
      ]
     },
     "execution_count": 117,
     "metadata": {},
     "output_type": "execute_result"
    }
   ],
   "source": [
    "# Re-run the logit using the PCA reduced data\n",
    "# This runs quite fast\n",
    "five_model_pca = LogisticRegression(solver='saga', penalty='l2', C=0.0001, max_iter=1000, random_state=1)\n",
    "five_model_pca.fit(X_train_scaled_pca, y_train)"
   ]
  },
  {
   "cell_type": "code",
   "execution_count": 118,
   "metadata": {},
   "outputs": [
    {
     "name": "stdout",
     "output_type": "stream",
     "text": [
      "Train Set Score (PCA):  0.4550426783790503\n",
      "Test Set Score (PCA):  0.45088991430454844\n"
     ]
    }
   ],
   "source": [
    "# Check scores using PCA\n",
    "print(\"Train Set Score (PCA): \", five_model_pca.score(X_train_scaled_pca, y_train))\n",
    "print(\"Test Set Score (PCA): \", five_model_pca.score(X_test_scaled_pca, y_test))"
   ]
  },
  {
   "cell_type": "code",
   "execution_count": 119,
   "metadata": {},
   "outputs": [],
   "source": [
    "# Store all data as pickle files - used in multiple notebooks / sessions\n",
    "X_train.to_pickle('five/X_train')\n",
    "y_train.to_pickle('five/y_train')\n",
    "X_test.to_pickle('five/X_test')\n",
    "y_test.to_pickle('five/y_test')"
   ]
  },
  {
   "cell_type": "code",
   "execution_count": 120,
   "metadata": {},
   "outputs": [],
   "source": [
    "# Read all data as pickle files - used in multiple notebooks / sessions\n",
    "X_train = pd.read_pickle(\"five/X_train\")\n",
    "y_train = pd.read_pickle(\"five/y_train\")\n",
    "X_test = pd.read_pickle(\"five/X_test\")\n",
    "y_test = pd.read_pickle(\"five/y_test\")"
   ]
  },
  {
   "cell_type": "code",
   "execution_count": 121,
   "metadata": {},
   "outputs": [
    {
     "data": {
      "text/plain": [
       "(24134, 48, 48)"
      ]
     },
     "execution_count": 121,
     "metadata": {},
     "output_type": "execute_result"
    }
   ],
   "source": [
    "# Convert to numpy\n",
    "X_train = X_train.to_numpy()\n",
    "X_train = X_train.reshape(24134, 48, 48)\n",
    "X_train.shape"
   ]
  },
  {
   "cell_type": "code",
   "execution_count": 122,
   "metadata": {},
   "outputs": [
    {
     "data": {
      "text/plain": [
       "(3034, 48, 48)"
      ]
     },
     "execution_count": 122,
     "metadata": {},
     "output_type": "execute_result"
    }
   ],
   "source": [
    "# Convert to numpy\n",
    "X_test = X_test.to_numpy()\n",
    "X_test = X_test.reshape(3034, 48, 48)\n",
    "X_test.shape"
   ]
  },
  {
   "cell_type": "code",
   "execution_count": 123,
   "metadata": {},
   "outputs": [
    {
     "data": {
      "text/plain": [
       "<matplotlib.image.AxesImage at 0x1ba0ea45b00>"
      ]
     },
     "execution_count": 123,
     "metadata": {},
     "output_type": "execute_result"
    },
    {
     "data": {
      "image/png": "[encoded data removed]",
      "text/plain": [
       "<Figure size 432x288 with 1 Axes>"
      ]
     },
     "metadata": {
      "needs_background": "light"
     },
     "output_type": "display_data"
    }
   ],
   "source": [
    "# Test one image\n",
    "plt.imshow(X_test[257], cmap='gray')"
   ]
  },
  {
   "cell_type": "code",
   "execution_count": 124,
   "metadata": {},
   "outputs": [
    {
     "name": "stdout",
     "output_type": "stream",
     "text": [
      "X_train shape: (24134, 48, 48)\n",
      "y_train shape: (24134,)\n",
      "X_test shape: (3034, 48, 48)\n",
      "y_test shape: (3034,)\n"
     ]
    }
   ],
   "source": [
    "# Check out the data\n",
    "print(f'X_train shape: {X_train.shape}')\n",
    "print(f'y_train shape: {y_train.shape}')\n",
    "print(f'X_test shape: {X_test.shape}')\n",
    "print(f'y_test shape: {y_test.shape}')"
   ]
  },
  {
   "cell_type": "code",
   "execution_count": 125,
   "metadata": {},
   "outputs": [
    {
     "name": "stdout",
     "output_type": "stream",
     "text": [
      "X range: 0.0-255.0\n",
      "y values: [0 1 2 3 4]\n",
      "Number of classes: 5\n"
     ]
    }
   ],
   "source": [
    "# range of x values\n",
    "print(f'X range: {X_train.min()}-{X_train.max()}')\n",
    "# y unique values\n",
    "print(f'y values: {np.unique(y_train)}')\n",
    "num_classes = len(np.unique(y_train))\n",
    "print(f'Number of classes: {num_classes}')"
   ]
  },
  {
   "cell_type": "code",
   "execution_count": 126,
   "metadata": {},
   "outputs": [
    {
     "name": "stdout",
     "output_type": "stream",
     "text": [
      "X_train shape: (24134, 48, 48, 1)\n",
      "X_test shape: (3034, 48, 48, 1)\n"
     ]
    }
   ],
   "source": [
    "# Define input image dimensions\n",
    "img_rows, img_cols = 48, 48\n",
    "\n",
    "# Reshape for Keras model types\n",
    "X_train = X_train.reshape(X_train.shape[0], img_rows, img_cols, 1)\n",
    "X_test = X_test.reshape(X_test.shape[0], img_rows, img_cols, 1)\n",
    "\n",
    "print(f'X_train shape: {X_train.shape}')\n",
    "print(f'X_test shape: {X_test.shape}')"
   ]
  },
  {
   "cell_type": "code",
   "execution_count": 127,
   "metadata": {},
   "outputs": [
    {
     "name": "stdout",
     "output_type": "stream",
     "text": [
      "X_train range: 0.0-1.0\n"
     ]
    }
   ],
   "source": [
    "# Modify the X values to be 0-1 instead of 0-255\n",
    "X_train = X_train.astype('float32')\n",
    "X_test = X_test.astype('float32')\n",
    "X_train /= 255\n",
    "X_test /= 255\n",
    "print(f'X_train range: {X_train.min()}-{X_train.max()}')"
   ]
  },
  {
   "cell_type": "code",
   "execution_count": 128,
   "metadata": {},
   "outputs": [],
   "source": [
    "# Create image augmentation generator\n",
    "aug = ImageDataGenerator(\n",
    "    rotation_range=20,\n",
    "    zoom_range=0.15,\n",
    "    width_shift_range=0.2,\n",
    "    height_shift_range=0.2,\n",
    "    shear_range=0.15,\n",
    "    horizontal_flip=True,\n",
    "    fill_mode='nearest')"
   ]
  },
  {
   "cell_type": "code",
   "execution_count": 129,
   "metadata": {},
   "outputs": [
    {
     "name": "stdout",
     "output_type": "stream",
     "text": [
      "_________________________________________________________________\n",
      "Layer (type)                 Output Shape              Param #   \n",
      "=================================================================\n",
      "conv2d_2 (Conv2D)            (None, 46, 46, 32)        320       \n",
      "_________________________________________________________________\n",
      "conv2d_3 (Conv2D)            (None, 44, 44, 64)        18496     \n",
      "_________________________________________________________________\n",
      "max_pooling2d_1 (MaxPooling2 (None, 22, 22, 64)        0         \n",
      "_________________________________________________________________\n",
      "dropout_2 (Dropout)          (None, 22, 22, 64)        0         \n",
      "_________________________________________________________________\n",
      "flatten_1 (Flatten)          (None, 30976)             0         \n",
      "_________________________________________________________________\n",
      "dense_6 (Dense)              (None, 128)               3965056   \n",
      "_________________________________________________________________\n",
      "dropout_3 (Dropout)          (None, 128)               0         \n",
      "_________________________________________________________________\n",
      "dense_7 (Dense)              (None, 5)                 645       \n",
      "=================================================================\n",
      "Total params: 3,984,517\n",
      "Trainable params: 3,984,517\n",
      "Non-trainable params: 0\n",
      "_________________________________________________________________\n"
     ]
    }
   ],
   "source": [
    "# Create a simple CNN model - based on the example in class\n",
    "# This example uses pooling for dimensionality reduction and Dropout to reduce overfitting\n",
    "fer_CNN_model_1 = Sequential()\n",
    "\n",
    "fer_CNN_model_1.add(Conv2D(32, kernel_size=(3, 3), activation='relu', input_shape=(48, 48, 1)))\n",
    "fer_CNN_model_1.add(Conv2D(64, (3, 3), activation='relu'))\n",
    "fer_CNN_model_1.add(MaxPooling2D(pool_size=(2,2)))\n",
    "\n",
    "fer_CNN_model_1.add(Dropout(0.25))\n",
    "fer_CNN_model_1.add(Flatten())\n",
    "fer_CNN_model_1.add(Dense(128, activation='relu'))\n",
    "fer_CNN_model_1.add(Dropout(0.5))\n",
    "fer_CNN_model_1.add(Dense(num_classes, activation='softmax'))\n",
    "\n",
    "fer_CNN_model_1.summary()"
   ]
  },
  {
   "cell_type": "code",
   "execution_count": 130,
   "metadata": {},
   "outputs": [],
   "source": [
    "# Compile the model using the sparse_categorical_crossentropy, optimizer, and metric\n",
    "fer_CNN_model_1.compile(loss='sparse_categorical_crossentropy',\n",
    "                        optimizer = 'Adam',\n",
    "                        metrics = ['accuracy'])"
   ]
  },
  {
   "cell_type": "code",
   "execution_count": 131,
   "metadata": {},
   "outputs": [],
   "source": [
    "# Fit the model on the training data, defining the batch_size, epochs, and test data\n",
    "# This will take a long time\n",
    "# Skip to \"Load Saved Model\" to load\n",
    "# history = fer_CNN_model_1.fit(X_train, y_train,\n",
    "#                     batch_size=32,\n",
    "#                     epochs=14,\n",
    "#                     verbose=1,\n",
    "#                     validation_data = (X_test, y_test))\n",
    "\n",
    "# Attempt at using real-time data augmentation\n",
    "# fer_CNN_model_1.fit(aug.flow(X_train, y_train, batch_size=32),\n",
    "#                     steps_per_epoch=len(X_train)/32, epochs=12)"
   ]
  },
  {
   "cell_type": "code",
   "execution_count": 132,
   "metadata": {},
   "outputs": [],
   "source": [
    "# Won't run unless trained the model\n",
    "# plt.figure()\n",
    "# plt.plot(history.history['val_loss'], marker='o', label='loss')\n",
    "# plt.plot(history.history['val_acc'], marker='o', label='accuracy')\n",
    "# plt.title('Validation Accuracy and Loss')\n",
    "# plt.legend(loc='best')\n",
    "# plt.xlabel('Epoch')\n",
    "# plt.ylabel('Accuracy / Loss')\n",
    "# plt.savefig('Val.png')\n",
    "# plt.show()"
   ]
  },
  {
   "cell_type": "code",
   "execution_count": 133,
   "metadata": {},
   "outputs": [],
   "source": [
    "# Won't run unless trained the model\n",
    "# plt.figure()\n",
    "# plt.plot(history.history['loss'], marker='o', label='loss')\n",
    "# plt.plot(history.history['acc'], marker='o', label='accuracy')\n",
    "# plt.title('Training Accuracy and Loss')\n",
    "# plt.legend(loc='best')\n",
    "# plt.xlabel('Epoch')\n",
    "# plt.ylabel('Accuracy / Loss')\n",
    "# plt.savefig('train.png')\n",
    "# plt.show()"
   ]
  },
  {
   "cell_type": "code",
   "execution_count": 134,
   "metadata": {},
   "outputs": [],
   "source": [
    "# Save the model for future use\n",
    "# fer_CNN_model_1.save(\"five/CNN_model_five_3.h5\")\n",
    "# print(\"Saved model to disk\")"
   ]
  },
  {
   "cell_type": "code",
   "execution_count": 135,
   "metadata": {},
   "outputs": [],
   "source": [
    "# Load saved model\n",
    "from tensorflow.keras.models import load_model\n",
    "fer_CNN_model_4 = load_model(\"five/CNN_model_five_2.h5\")"
   ]
  },
  {
   "cell_type": "code",
   "execution_count": 136,
   "metadata": {},
   "outputs": [
    {
     "name": "stdout",
     "output_type": "stream",
     "text": [
      "3034/3034 [==============================] - 3s 1ms/sample - loss: 1.2857 - acc: 0.5959\n",
      "Test loss: 1.2857239211792213\n",
      "Test accuracy: 0.595913\n"
     ]
    }
   ],
   "source": [
    "# Evaluate the model's performance on the test data\n",
    "score = fer_CNN_model_4.evaluate(X_test, y_test, verbose=1)\n",
    "\n",
    "print('Test loss:', score[0])\n",
    "print('Test accuracy:', score[1])"
   ]
  },
  {
   "cell_type": "code",
   "execution_count": 137,
   "metadata": {},
   "outputs": [],
   "source": [
    "# Make predictions\n",
    "y_pred = fer_CNN_model_4.predict(X_test)\n",
    "y_pred_df = pd.DataFrame(y_pred)\n",
    "y_pred_df['prediction'] = y_pred_df.idxmax(axis=1)\n",
    "cm = confusion_matrix(y_test, y_pred_df['prediction'])"
   ]
  },
  {
   "cell_type": "code",
   "execution_count": 138,
   "metadata": {},
   "outputs": [
    {
     "data": {
      "text/html": [
       "<div>\n",
       "<style scoped>\n",
       "    .dataframe tbody tr th:only-of-type {\n",
       "        vertical-align: middle;\n",
       "    }\n",
       "\n",
       "    .dataframe tbody tr th {\n",
       "        vertical-align: top;\n",
       "    }\n",
       "\n",
       "    .dataframe thead th {\n",
       "        text-align: right;\n",
       "    }\n",
       "</style>\n",
       "<table border=\"1\" class=\"dataframe\">\n",
       "  <thead>\n",
       "    <tr style=\"text-align: right;\">\n",
       "      <th></th>\n",
       "      <th>Pred. Angry</th>\n",
       "      <th>Pred. Happy</th>\n",
       "      <th>Pred. Sad</th>\n",
       "      <th>Pred. Surprise</th>\n",
       "      <th>Pred. Neutral</th>\n",
       "    </tr>\n",
       "  </thead>\n",
       "  <tbody>\n",
       "    <tr>\n",
       "      <th>True Angry</th>\n",
       "      <td>196</td>\n",
       "      <td>65</td>\n",
       "      <td>103</td>\n",
       "      <td>25</td>\n",
       "      <td>77</td>\n",
       "    </tr>\n",
       "    <tr>\n",
       "      <th>True Happy</th>\n",
       "      <td>42</td>\n",
       "      <td>659</td>\n",
       "      <td>76</td>\n",
       "      <td>28</td>\n",
       "      <td>89</td>\n",
       "    </tr>\n",
       "    <tr>\n",
       "      <th>True Sad</th>\n",
       "      <td>92</td>\n",
       "      <td>75</td>\n",
       "      <td>329</td>\n",
       "      <td>23</td>\n",
       "      <td>134</td>\n",
       "    </tr>\n",
       "    <tr>\n",
       "      <th>True Surprise</th>\n",
       "      <td>23</td>\n",
       "      <td>33</td>\n",
       "      <td>22</td>\n",
       "      <td>316</td>\n",
       "      <td>20</td>\n",
       "    </tr>\n",
       "    <tr>\n",
       "      <th>True Neutral</th>\n",
       "      <td>57</td>\n",
       "      <td>79</td>\n",
       "      <td>142</td>\n",
       "      <td>21</td>\n",
       "      <td>308</td>\n",
       "    </tr>\n",
       "  </tbody>\n",
       "</table>\n",
       "</div>"
      ],
      "text/plain": [
       "               Pred. Angry  Pred. Happy  Pred. Sad  Pred. Surprise  \\\n",
       "True Angry             196           65        103              25   \n",
       "True Happy              42          659         76              28   \n",
       "True Sad                92           75        329              23   \n",
       "True Surprise           23           33         22             316   \n",
       "True Neutral            57           79        142              21   \n",
       "\n",
       "               Pred. Neutral  \n",
       "True Angry                77  \n",
       "True Happy                89  \n",
       "True Sad                 134  \n",
       "True Surprise             20  \n",
       "True Neutral             308  "
      ]
     },
     "execution_count": 138,
     "metadata": {},
     "output_type": "execute_result"
    }
   ],
   "source": [
    "# Build confusion matrix\n",
    "cm_df = pd.DataFrame(cm, index=['True Angry','True Happy','True Sad','True Surprise','True Neutral'], \n",
    "                     columns=['Pred. Angry','Pred. Happy','Pred. Sad','Pred. Surprise','Pred. Neutral'])\n",
    "cm_df"
   ]
  },
  {
   "cell_type": "code",
   "execution_count": 139,
   "metadata": {},
   "outputs": [
    {
     "data": {
      "text/plain": [
       "<sklearn.metrics._plot.confusion_matrix.ConfusionMatrixDisplay at 0x1b81d19fbe0>"
      ]
     },
     "execution_count": 139,
     "metadata": {},
     "output_type": "execute_result"
    },
    {
     "data": {
      "image/png": "[encoded data removed]",
      "text/plain": [
       "<Figure size 432x288 with 2 Axes>"
      ]
     },
     "metadata": {
      "needs_background": "light"
     },
     "output_type": "display_data"
    }
   ],
   "source": [
    "# Display confusion Matrix\n",
    "ConfusionMatrixDisplay(cm, display_labels=['Angry','Happy','Sad','Surprise','Neutral']).plot()"
   ]
  },
  {
   "cell_type": "code",
   "execution_count": 140,
   "metadata": {},
   "outputs": [
    {
     "data": {
      "image/png": "[encoded data removed]",
      "text/plain": [
       "<Figure size 720x432 with 2 Axes>"
      ]
     },
     "metadata": {
      "needs_background": "light"
     },
     "output_type": "display_data"
    }
   ],
   "source": [
    "# Display confusion matrix in seaborn\n",
    "import seaborn as sns\n",
    "plt.figure(figsize=(10,6))\n",
    "ax = sns.heatmap(cm_df, annot=True, fmt='g')\n",
    "plt.savefig(\"cm.png\")\n",
    "plt.show()"
   ]
  },
  {
   "cell_type": "code",
   "execution_count": 141,
   "metadata": {},
   "outputs": [],
   "source": [
    "# Import the pretrained VGG16 model and do not include the final layer:\n",
    "base_model = VGG16(weights='imagenet', include_top=False)"
   ]
  },
  {
   "cell_type": "code",
   "execution_count": 142,
   "metadata": {},
   "outputs": [],
   "source": [
    "# Assign the output of this base_model to a variable:\n",
    "base_model_out = base_model.output\n",
    "\n",
    "# Add a pooling layer:\n",
    "base_model_out = GlobalAveragePooling2D()(base_model_out)\n",
    "\n",
    "# Add 3 dense layers so that the model can learn aspects of our new dataset \n",
    "# and classify for better results.\n",
    "base_model_out = Dense(243, activation='relu')(base_model_out) \n",
    "base_model_out = Dense(243, activation='relu')(base_model_out)\n",
    "base_model_out = Dense(81, activation='relu')(base_model_out)\n",
    "\n",
    "# Add a final layer with 5 neurons, one for each class in our dataset \n",
    "# using a softmabase_model_out activation function:\n",
    "preds = Dense(5, activation='softmax')(base_model_out)\n",
    "\n",
    "# Instantiate our final model, where we specify what are the inputs and \n",
    "# the outputs will look like\n",
    "model = Model(inputs = base_model.input, \n",
    "              outputs = preds)"
   ]
  },
  {
   "cell_type": "code",
   "execution_count": 143,
   "metadata": {},
   "outputs": [
    {
     "name": "stdout",
     "output_type": "stream",
     "text": [
      "0 input_2\n",
      "1 block1_conv1\n",
      "2 block1_conv2\n",
      "3 block1_pool\n",
      "4 block2_conv1\n",
      "5 block2_conv2\n",
      "6 block2_pool\n",
      "7 block3_conv1\n",
      "8 block3_conv2\n",
      "9 block3_conv3\n",
      "10 block3_pool\n",
      "11 block4_conv1\n",
      "12 block4_conv2\n",
      "13 block4_conv3\n",
      "14 block4_pool\n",
      "15 block5_conv1\n",
      "16 block5_conv2\n",
      "17 block5_conv3\n",
      "18 block5_pool\n",
      "19 global_average_pooling2d_1\n",
      "20 dense_8\n",
      "21 dense_9\n",
      "22 dense_10\n",
      "23 dense_11\n"
     ]
    }
   ],
   "source": [
    "for i, layer in enumerate(model.layers):\n",
    "    print(i, layer.name)"
   ]
  },
  {
   "cell_type": "code",
   "execution_count": 144,
   "metadata": {},
   "outputs": [
    {
     "name": "stdout",
     "output_type": "stream",
     "text": [
      "_________________________________________________________________\n",
      "Layer (type)                 Output Shape              Param #   \n",
      "=================================================================\n",
      "input_2 (InputLayer)         (None, None, None, 3)     0         \n",
      "_________________________________________________________________\n",
      "block1_conv1 (Conv2D)        (None, None, None, 64)    1792      \n",
      "_________________________________________________________________\n",
      "block1_conv2 (Conv2D)        (None, None, None, 64)    36928     \n",
      "_________________________________________________________________\n",
      "block1_pool (MaxPooling2D)   (None, None, None, 64)    0         \n",
      "_________________________________________________________________\n",
      "block2_conv1 (Conv2D)        (None, None, None, 128)   73856     \n",
      "_________________________________________________________________\n",
      "block2_conv2 (Conv2D)        (None, None, None, 128)   147584    \n",
      "_________________________________________________________________\n",
      "block2_pool (MaxPooling2D)   (None, None, None, 128)   0         \n",
      "_________________________________________________________________\n",
      "block3_conv1 (Conv2D)        (None, None, None, 256)   295168    \n",
      "_________________________________________________________________\n",
      "block3_conv2 (Conv2D)        (None, None, None, 256)   590080    \n",
      "_________________________________________________________________\n",
      "block3_conv3 (Conv2D)        (None, None, None, 256)   590080    \n",
      "_________________________________________________________________\n",
      "block3_pool (MaxPooling2D)   (None, None, None, 256)   0         \n",
      "_________________________________________________________________\n",
      "block4_conv1 (Conv2D)        (None, None, None, 512)   1180160   \n",
      "_________________________________________________________________\n",
      "block4_conv2 (Conv2D)        (None, None, None, 512)   2359808   \n",
      "_________________________________________________________________\n",
      "block4_conv3 (Conv2D)        (None, None, None, 512)   2359808   \n",
      "_________________________________________________________________\n",
      "block4_pool (MaxPooling2D)   (None, None, None, 512)   0         \n",
      "_________________________________________________________________\n",
      "block5_conv1 (Conv2D)        (None, None, None, 512)   2359808   \n",
      "_________________________________________________________________\n",
      "block5_conv2 (Conv2D)        (None, None, None, 512)   2359808   \n",
      "_________________________________________________________________\n",
      "block5_conv3 (Conv2D)        (None, None, None, 512)   2359808   \n",
      "_________________________________________________________________\n",
      "block5_pool (MaxPooling2D)   (None, None, None, 512)   0         \n",
      "_________________________________________________________________\n",
      "global_average_pooling2d_1 ( (None, 512)               0         \n",
      "_________________________________________________________________\n",
      "dense_8 (Dense)              (None, 243)               124659    \n",
      "_________________________________________________________________\n",
      "dense_9 (Dense)              (None, 243)               59292     \n",
      "_________________________________________________________________\n",
      "dense_10 (Dense)             (None, 81)                19764     \n",
      "_________________________________________________________________\n",
      "dense_11 (Dense)             (None, 5)                 410       \n",
      "=================================================================\n",
      "Total params: 14,918,813\n",
      "Trainable params: 14,918,813\n",
      "Non-trainable params: 0\n",
      "_________________________________________________________________\n"
     ]
    }
   ],
   "source": [
    "model.summary()"
   ]
  },
  {
   "cell_type": "code",
   "execution_count": 145,
   "metadata": {},
   "outputs": [],
   "source": [
    "for layer in model.layers[:20]:\n",
    "    layer.trainable=False\n",
    "    \n",
    "for layer in model.layers[20:]:\n",
    "    layer.trainable=True"
   ]
  },
  {
   "cell_type": "code",
   "execution_count": 146,
   "metadata": {},
   "outputs": [],
   "source": [
    "train_datagen = ImageDataGenerator(preprocessing_function=preprocess_input) #included in our dependencies"
   ]
  },
  {
   "cell_type": "code",
   "execution_count": 147,
   "metadata": {},
   "outputs": [
    {
     "name": "stdout",
     "output_type": "stream",
     "text": [
      "Found 24176 images belonging to 5 classes.\n"
     ]
    }
   ],
   "source": [
    "# This will only work with the data directories\n",
    "# Set the train_generator with settings\n",
    "train_generator = train_datagen.flow_from_directory('five/data/Training', # path to the training data folder\n",
    "                                                 target_size=(48,48),\n",
    "                                                 color_mode='rgb',\n",
    "                                                 batch_size=32,\n",
    "                                                 class_mode='categorical',\n",
    "                                                 shuffle=True)"
   ]
  },
  {
   "cell_type": "code",
   "execution_count": 148,
   "metadata": {},
   "outputs": [],
   "source": [
    "# Combile model\n",
    "model.compile(optimizer='Adam',\n",
    "              loss='categorical_crossentropy',\n",
    "              metrics=['accuracy'])"
   ]
  },
  {
   "cell_type": "code",
   "execution_count": 149,
   "metadata": {},
   "outputs": [],
   "source": [
    "# Set step size\n",
    "step_size_train = train_generator.n//train_generator.batch_size"
   ]
  },
  {
   "cell_type": "code",
   "execution_count": 150,
   "metadata": {},
   "outputs": [],
   "source": [
    "# Fit model - this takes a long time\n",
    "# Skip to load_model\n",
    "# history = model.fit_generator(generator = train_generator, \n",
    "#                     steps_per_epoch = step_size_train, \n",
    "#                     epochs = 10)"
   ]
  },
  {
   "cell_type": "code",
   "execution_count": 151,
   "metadata": {},
   "outputs": [],
   "source": [
    "# import h5py\n",
    "# model.save(\"five/vgg16_five_2.h5\")\n",
    "# print(\"Saved model to disk\")"
   ]
  },
  {
   "cell_type": "code",
   "execution_count": 152,
   "metadata": {},
   "outputs": [],
   "source": [
    "# better to load the model\n",
    "import h5py\n",
    "model = load_model(\"five/vgg16_five_2.h5\")"
   ]
  },
  {
   "cell_type": "code",
   "execution_count": 153,
   "metadata": {},
   "outputs": [],
   "source": [
    "# Plot the loss and accuracy\n",
    "# Won't work unless you trained the model\n",
    "# plt.figure()\n",
    "# plt.plot(history.history['loss'], marker='o', label='loss')\n",
    "# plt.plot(history.history['acc'], marker='o', label='accuracy')\n",
    "# plt.title('Training Accuracy and Loss')\n",
    "# plt.legend(loc='best')\n",
    "# plt.xlabel('Epoch')\n",
    "# plt.ylabel('Accuracy / Loss')\n",
    "# plt.show()"
   ]
  },
  {
   "cell_type": "code",
   "execution_count": 154,
   "metadata": {},
   "outputs": [],
   "source": [
    "test_datagen = ImageDataGenerator(preprocessing_function=preprocess_input)"
   ]
  },
  {
   "cell_type": "code",
   "execution_count": 155,
   "metadata": {},
   "outputs": [
    {
     "name": "stdout",
     "output_type": "stream",
     "text": [
      "Found 3006 images belonging to 5 classes.\n"
     ]
    }
   ],
   "source": [
    "# Create test generator - specify path to test data\n",
    "test_generator = test_datagen.flow_from_directory('five/data/PrivateTest', # path to the training data folder\n",
    "                                                 target_size=(48,48),\n",
    "                                                 color_mode='rgb',\n",
    "                                                 batch_size=32,\n",
    "                                                 class_mode='categorical',\n",
    "                                                 shuffle=False)"
   ]
  },
  {
   "cell_type": "code",
   "execution_count": 156,
   "metadata": {},
   "outputs": [
    {
     "data": {
      "text/plain": [
       "array([[7.5456399e-01, 2.1876459e-01, 2.6615117e-02, 5.6203669e-05,\n",
       "        5.1471477e-10],\n",
       "       [1.0000000e+00, 7.0065470e-32, 0.0000000e+00, 1.9221247e-22,\n",
       "        7.1846162e-24],\n",
       "       [2.6868705e-14, 1.6880001e-11, 2.2044237e-08, 1.0000000e+00,\n",
       "        2.6427551e-09],\n",
       "       ...,\n",
       "       [2.6290104e-01, 7.2963673e-01, 2.1287965e-06, 3.2027655e-03,\n",
       "        4.2573842e-03],\n",
       "       [3.6604517e-05, 3.3049703e-06, 1.2481188e-02, 2.3349527e-04,\n",
       "        9.8724538e-01],\n",
       "       [2.4911921e-04, 9.2828674e-07, 2.1341739e-05, 3.0756983e-04,\n",
       "        9.9942112e-01]], dtype=float32)"
      ]
     },
     "execution_count": 156,
     "metadata": {},
     "output_type": "execute_result"
    }
   ],
   "source": [
    "# Make prediction\n",
    "prediction = model.predict_generator(test_generator, steps = 1)\n",
    "prediction"
   ]
  },
  {
   "cell_type": "code",
   "execution_count": 157,
   "metadata": {},
   "outputs": [],
   "source": [
    "# Get predictions\n",
    "test_true = test_generator.classes\n",
    "test_pred = prediction.argmax(axis=1)"
   ]
  },
  {
   "cell_type": "code",
   "execution_count": 158,
   "metadata": {},
   "outputs": [
    {
     "data": {
      "text/html": [
       "<div>\n",
       "<style scoped>\n",
       "    .dataframe tbody tr th:only-of-type {\n",
       "        vertical-align: middle;\n",
       "    }\n",
       "\n",
       "    .dataframe tbody tr th {\n",
       "        vertical-align: top;\n",
       "    }\n",
       "\n",
       "    .dataframe thead th {\n",
       "        text-align: right;\n",
       "    }\n",
       "</style>\n",
       "<table border=\"1\" class=\"dataframe\">\n",
       "  <thead>\n",
       "    <tr style=\"text-align: right;\">\n",
       "      <th></th>\n",
       "      <th>predicted Angry</th>\n",
       "      <th>predicted Happy</th>\n",
       "      <th>predicted Sad</th>\n",
       "      <th>true Surprise</th>\n",
       "      <th>true Neutral</th>\n",
       "    </tr>\n",
       "  </thead>\n",
       "  <tbody>\n",
       "    <tr>\n",
       "      <th>true Angry</th>\n",
       "      <td>161</td>\n",
       "      <td>75</td>\n",
       "      <td>84</td>\n",
       "      <td>125</td>\n",
       "      <td>46</td>\n",
       "    </tr>\n",
       "    <tr>\n",
       "      <th>true Happy</th>\n",
       "      <td>74</td>\n",
       "      <td>476</td>\n",
       "      <td>147</td>\n",
       "      <td>125</td>\n",
       "      <td>57</td>\n",
       "    </tr>\n",
       "    <tr>\n",
       "      <th>true Sad</th>\n",
       "      <td>61</td>\n",
       "      <td>105</td>\n",
       "      <td>317</td>\n",
       "      <td>106</td>\n",
       "      <td>37</td>\n",
       "    </tr>\n",
       "    <tr>\n",
       "      <th>true Surprise</th>\n",
       "      <td>78</td>\n",
       "      <td>93</td>\n",
       "      <td>143</td>\n",
       "      <td>247</td>\n",
       "      <td>33</td>\n",
       "    </tr>\n",
       "    <tr>\n",
       "      <th>true Neutral</th>\n",
       "      <td>22</td>\n",
       "      <td>29</td>\n",
       "      <td>43</td>\n",
       "      <td>29</td>\n",
       "      <td>293</td>\n",
       "    </tr>\n",
       "  </tbody>\n",
       "</table>\n",
       "</div>"
      ],
      "text/plain": [
       "               predicted Angry  predicted Happy  predicted Sad  true Surprise  \\\n",
       "true Angry                 161               75             84            125   \n",
       "true Happy                  74              476            147            125   \n",
       "true Sad                    61              105            317            106   \n",
       "true Surprise               78               93            143            247   \n",
       "true Neutral                22               29             43             29   \n",
       "\n",
       "               true Neutral  \n",
       "true Angry               46  \n",
       "true Happy               57  \n",
       "true Sad                 37  \n",
       "true Surprise            33  \n",
       "true Neutral            293  "
      ]
     },
     "execution_count": 158,
     "metadata": {},
     "output_type": "execute_result"
    }
   ],
   "source": [
    "# Confusion matrix\n",
    "from sklearn.metrics import confusion_matrix\n",
    "pd.DataFrame(confusion_matrix(test_true,test_pred),\n",
    "            index = ['true Angry','true Happy','true Sad','true Surprise', 'true Neutral'],\n",
    "            columns =  ['predicted Angry','predicted Happy','predicted Sad','true Surprise','true Neutral'])"
   ]
  },
  {
   "cell_type": "code",
   "execution_count": 159,
   "metadata": {},
   "outputs": [
    {
     "data": {
      "text/plain": [
       "0.49700598802395207"
      ]
     },
     "execution_count": 159,
     "metadata": {},
     "output_type": "execute_result"
    }
   ],
   "source": [
    "# Get accuracy score\n",
    "from sklearn.metrics import accuracy_score\n",
    "accuracy_score(test_true,test_pred)"
   ]
  },
  {
   "cell_type": "code",
   "execution_count": 160,
   "metadata": {},
   "outputs": [],
   "source": [
    "# Import haar cascade classifier to crop faces\n",
    "face_cascade = cv2.CascadeClassifier('haarcascades/haarcascade_frontalface_default.xml')\n",
    "eye_cascade = cv2.CascadeClassifier('haarcascades/haarcascade_eye.xml')\n",
    "\n",
    "img = cv2.imread('examples/neutral4.jpg')\n",
    "gray = cv2.cvtColor(img, cv2.COLOR_BGR2GRAY)"
   ]
  },
  {
   "cell_type": "code",
   "execution_count": 161,
   "metadata": {},
   "outputs": [],
   "source": [
    "# Import model from before\n",
    "from tensorflow.keras.models import load_model\n",
    "model = load_model(\"five/CNN_model_five_2.h5\")"
   ]
  },
  {
   "cell_type": "code",
   "execution_count": 162,
   "metadata": {},
   "outputs": [],
   "source": [
    "# helper method for UI\n",
    "def prep_model(image):\n",
    "    image = rgb2gray(image)\n",
    "    image = cv2.resize(image, (48,48))\n",
    "    image = image.reshape(1,48,48,1)\n",
    "    image = image.astype('float32')\n",
    "    image /= 255\n",
    "    return image"
   ]
  },
  {
   "cell_type": "code",
   "execution_count": 163,
   "metadata": {},
   "outputs": [],
   "source": [
    "# helper method for UI - convert to grayscale\n",
    "import numpy as np\n",
    "\n",
    "def rgb2gray(rgb):\n",
    "\n",
    "    r, g, b = rgb[:,:,0], rgb[:,:,1], rgb[:,:,2]\n",
    "    gray = 0.2989 * r + 0.5870 * g + 0.1140 * b\n",
    "\n",
    "    return gray"
   ]
  },
  {
   "cell_type": "code",
   "execution_count": 164,
   "metadata": {},
   "outputs": [],
   "source": [
    "# Function for getting a prediction based on any image with a face in it\n",
    "def read_prep_model(path, model):\n",
    "    # set up haar classifier\n",
    "    img = cv2.imread(path)\n",
    "    gray = cv2.cvtColor(img, cv2.COLOR_BGR2GRAY)\n",
    "    faces = face_cascade.detectMultiScale(gray, 1.3, 5)\n",
    "    x = faces[0][0]\n",
    "    y = faces[0][1]\n",
    "    w = faces[0][2]\n",
    "    h = faces[0][3]\n",
    "    \n",
    "    img_cropped = cv2.imread(path)[y:y+h,x:x+w]\n",
    "    image = prep_model(img_cropped)\n",
    "    scores = model.predict(image)\n",
    "    scores_int = np.rint(scores*100).astype(int).reshape(5,)\n",
    "    angry_score = scores_int[0]\n",
    "    happy_score = scores_int[1]\n",
    "    sad_score = scores_int[2]\n",
    "    surprise_score = scores_int[3]\n",
    "    neutral_score = scores_int[4]\n",
    "    \n",
    "    display_str = f'''Facial Expression Probabilities\\nfor {path}:\n",
    "    \n",
    "    Angry:     {angry_score}%\n",
    "    Happy:     {happy_score}%\n",
    "    Sad:       {sad_score}%\n",
    "    Surprise:  {surprise_score}%\n",
    "    Neutral:   {neutral_score}%\n",
    "    '''\n",
    "    return display_str"
   ]
  },
  {
   "cell_type": "code",
   "execution_count": 165,
   "metadata": {},
   "outputs": [
    {
     "name": "stdout",
     "output_type": "stream",
     "text": [
      "Facial Expression Probabilities\n",
      "for examples_1/4.jpg:\n",
      "    \n",
      "    Angry:     0%\n",
      "    Happy:     93%\n",
      "    Sad:       0%\n",
      "    Surprise:  6%\n",
      "    Neutral:   1%\n",
      "    \n"
     ]
    }
   ],
   "source": [
    "# Example usage - Set path to an image\n",
    "path = \"examples_1/4.jpg\"\n",
    "print(read_prep_model(path, model))"
   ]
  }
 ],
 "metadata": {
  "kernelspec": {
   "display_name": "myenv",
   "language": "python",
   "name": "myenv"
  },
  "language_info": {
   "codemirror_mode": {
    "name": "ipython",
    "version": 3
   },
   "file_extension": ".py",
   "mimetype": "text/x-python",
   "name": "python",
   "nbconvert_exporter": "python",
   "pygments_lexer": "ipython3",
   "version": "3.7.0"
  }
 },
 "nbformat": 4,
 "nbformat_minor": 4
}
